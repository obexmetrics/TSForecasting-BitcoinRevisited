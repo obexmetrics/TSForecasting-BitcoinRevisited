{
  "cells": [
    {
      "cell_type": "markdown",
      "metadata": {
        "colab_type": "text",
        "id": "view-in-github"
      },
      "source": [
        "<a href=\"https://colab.research.google.com/github/pmontman/TSForecasting/blob/master/experiments/forecastingdata_python.ipynb\" target=\"_parent\"><img src=\"https://colab.research.google.com/assets/colab-badge.svg\" alt=\"Open In Colab\"/></a>"
      ]
    },
    {
      "cell_type": "markdown",
      "metadata": {
        "id": "R4AUfZ_qqYcQ"
      },
      "source": [
        "## Notebook for accessing Forecastingdata forecasting and feature extraction tools using python\n",
        "\n",
        "in Forecastingdata, some forecasting and feature calculation tools are implemented in R, but we can access them *transparently* from python using the awesome rpy2 package.\n",
        "This notebook shows an example for it.\n",
        "\n",
        "\n",
        "It has two parts. Part 1 is the preparation of the environment so everything\n",
        "runs directly on python. Part2 is an example of how to use the tools directly from python."
      ]
    },
    {
      "cell_type": "markdown",
      "metadata": {
        "id": "KnPXANAz-H1X"
      },
      "source": [
        "## Part 1) Preparation of the environment"
      ]
    },
    {
      "cell_type": "markdown",
      "metadata": {
        "id": "WW8eLpvc6mRW"
      },
      "source": [
        "We load the R extension for jupyter, which interacts nicely with python"
      ]
    },
    {
      "cell_type": "code",
      "execution_count": null,
      "metadata": {
        "id": "PApAXyc6r6SV"
      },
      "outputs": [],
      "source": [
        "#@title\n",
        "%load_ext rpy2.ipython"
      ]
    },
    {
      "cell_type": "markdown",
      "metadata": {
        "id": "9vSYen5A6wAl"
      },
      "source": [
        "Clone the repository, for reproducibility. No need to clone everytime if you have already have the folder!."
      ]
    },
    {
      "cell_type": "code",
      "execution_count": null,
      "metadata": {
        "colab": {
          "base_uri": "https://localhost:8080/"
        },
        "id": "0cFcT8wkqXke",
        "outputId": "a01c9d35-f51b-4523-c848-e520ae9cca54"
      },
      "outputs": [],
      "source": [
        "!git clone https://github.com/pmontman/TSForecasting"
      ]
    },
    {
      "cell_type": "code",
      "execution_count": null,
      "metadata": {
        "colab": {
          "base_uri": "https://localhost:8080/"
        },
        "id": "6f9OMDftcwvd",
        "outputId": "41eebd10-3e21-472d-bd51-f1dd87c67860"
      },
      "outputs": [],
      "source": [
        "%cd TSForecasting/\n",
        "!git pull\n",
        "%cd .."
      ]
    },
    {
      "cell_type": "markdown",
      "metadata": {
        "id": "NBgeddI662U1"
      },
      "source": [
        "We now prepare the R environment for processing: installing and loading the required packages"
      ]
    },
    {
      "cell_type": "markdown",
      "metadata": {},
      "source": [
        "```sh\n",
        "cat << EOM > ~/.R/Makevars                                    \n",
        "BREWDIR:=$(shell brew --prefix)\n",
        "CPPFLAGS=-I$(BREWDIR)/include\n",
        "LDFLAGS=-L$(BREWDIR)/lib\n",
        "EOM\n",
        "\n",
        " brew install r harfbuzz fribidi\n",
        " brew install libgit2\n",
        " brew install freetype libpng libtiff zlib libjpeg-turbo\n",
        "```\n"
      ]
    },
    {
      "cell_type": "code",
      "execution_count": null,
      "metadata": {},
      "outputs": [],
      "source": [
        "%%R\n",
        "install.packages(\"devtools\")\n",
        "library(\"devtools\")\n",
        "install.packages(\"Rcatch22\")"
      ]
    },
    {
      "cell_type": "code",
      "execution_count": null,
      "metadata": {
        "colab": {
          "base_uri": "https://localhost:8080/"
        },
        "id": "-_ONfdCbrnvR",
        "outputId": "3c619547-e980-4c8c-9172-e05022c41ef4"
      },
      "outputs": [],
      "source": [
        "%%R\n",
        "install.packages(\"tidyverse\")\n",
        "install.packages(\"tsibble\")\n",
        "install.packages(\"forecast\")\n",
        "install.packages(\"tsfeatures\")\n",
        "install.packages(\"smooth\")"
      ]
    },
    {
      "cell_type": "markdown",
      "metadata": {
        "id": "3EQg7sgb2RDP"
      },
      "source": [
        "Install glmnet package for linear models"
      ]
    },
    {
      "cell_type": "code",
      "execution_count": null,
      "metadata": {
        "colab": {
          "base_uri": "https://localhost:8080/"
        },
        "id": "TI6nV8XQ0coC",
        "outputId": "1756247f-1a5c-4cf3-8932-6edd6ca2122b"
      },
      "outputs": [],
      "source": [
        "%%R\n",
        "install.packages('glmnet')"
      ]
    },
    {
      "cell_type": "code",
      "execution_count": null,
      "metadata": {
        "colab": {
          "base_uri": "https://localhost:8080/"
        },
        "id": "KxvkzalscnSw",
        "outputId": "ee61459b-19dd-4ffe-81af-b16f27118f9f"
      },
      "outputs": [],
      "source": [
        "! ls TSForecasting/experiments"
      ]
    },
    {
      "cell_type": "code",
      "execution_count": null,
      "metadata": {
        "id": "NaOu2KJgmac-"
      },
      "outputs": [],
      "source": [
        "%%R\n",
        "BASE_DIR <- \"TSForecasting\"\n",
        "source(\"TSForecasting/experiments/feature_functions.R\")\n",
        "source(\"TSForecasting/experiments/fixed_horizon_functions.R\")"
      ]
    },
    {
      "cell_type": "markdown",
      "metadata": {
        "id": "jSe_MTIUCsPv"
      },
      "source": [
        "The fixed horizon we need to try line by line to skip errors"
      ]
    },
    {
      "cell_type": "code",
      "execution_count": null,
      "metadata": {
        "colab": {
          "base_uri": "https://localhost:8080/"
        },
        "id": "vwCaUyXsyeEw",
        "outputId": "d2e390d9-ed21-4e96-b883-2155fef21c9c"
      },
      "outputs": [],
      "source": [
        "%%R\n",
        "#source(\"TSForecasting/experiments/fixed_horizon_functions.R\")"
      ]
    },
    {
      "cell_type": "markdown",
      "metadata": {
        "id": "DRGajjI4zFaY"
      },
      "source": [
        "## Part 2) Using tools directly on Python"
      ]
    },
    {
      "cell_type": "markdown",
      "metadata": {
        "id": "TXtt5JaX3lkL"
      },
      "source": [
        "Load the function into python environment through rpy2 so\n",
        "it can be later accessed directly from python code"
      ]
    },
    {
      "cell_type": "code",
      "execution_count": null,
      "metadata": {
        "id": "JgEtQkSszEZq"
      },
      "outputs": [],
      "source": [
        "import rpy2.robjects as robjects\n",
        "calculate_features = robjects.r['calculate_features']\n",
        "do_fixed_horizon_local_forecasting = robjects.r['do_fixed_horizon_local_forecasting']\n",
        "do_fixed_horizon_global_forecasting = robjects.r['do_fixed_horizon_global_forecasting']"
      ]
    },
    {
      "cell_type": "markdown",
      "metadata": {
        "id": "x9_Z_fov31G5"
      },
      "source": [
        "\n",
        "we can now call `calculate_features` directly from python, here we have two examples using both the 'tsfeatures' and the 'catch22' features.\n",
        "We will first remove the files just in case"
      ]
    },
    {
      "cell_type": "markdown",
      "metadata": {
        "id": "4vTrBGvC5RbD"
      },
      "source": [
        "Compute the features, we capture the stdout output to remove the verbosiness  of the progress report"
      ]
    },
    {
      "cell_type": "code",
      "execution_count": null,
      "metadata": {
        "colab": {
          "base_uri": "https://localhost:8080/"
        },
        "id": "2dUeI4eK3gdl",
        "outputId": "112f0972-18ea-42d9-8689-614470c2929a"
      },
      "outputs": [],
      "source": [
        "%%capture cap --no-stderr\n",
        "calculate_features(\"bitcoin_without_missing\", \"bitcoin_dataset_without_missing_values.tsf\", \"series_name\", \"start_timestamp\", \"tsfeatures\")\n",
        "calculate_features(\"bitcoin_without_missing\", \"bitcoin_dataset_without_missing_values.tsf\", \"series_name\", \"start_timestamp\", \"catch22\")"
      ]
    },
    {
      "cell_type": "markdown",
      "metadata": {
        "id": "b9kj6-716Kr_"
      },
      "source": [
        "The functions write the outputs to .csv files in the project directory\n",
        "structure. We can quickly check if the experiments runs OK, we should see some features in the following files."
      ]
    },
    {
      "cell_type": "code",
      "execution_count": null,
      "metadata": {
        "colab": {
          "base_uri": "https://localhost:8080/"
        },
        "id": "9bQeEs0h4GEp",
        "outputId": "e736caac-8587-44b8-de80-9c6b21517dc2"
      },
      "outputs": [],
      "source": [
        "!echo \"head of the tsfeatures features\"\n",
        "!ls -r TSForecasting/results/tsfeatures\n",
        "!head -5 TSForecasting/results/tsfeatures/bitcoin_without_missing_features.csv\n",
        "!echo \"head of the catch22 features\"\n",
        "!ls -r TSForecasting/results/catch22_features\n",
        "!head -5 TSForecasting/results/catch22_features/bitcoin_without_missing_features.csv"
      ]
    },
    {
      "cell_type": "markdown",
      "metadata": {
        "id": "JdZePDYeTxmk"
      },
      "source": [
        "Compute the local forecasts."
      ]
    },
    {
      "cell_type": "code",
      "execution_count": null,
      "metadata": {
        "colab": {
          "base_uri": "https://localhost:8080/"
        },
        "id": "X938OpXZTx49",
        "outputId": "a679a45c-e8e5-4e0c-f4b6-0f43c07b90a2"
      },
      "outputs": [],
      "source": [
        "do_fixed_horizon_local_forecasting(\"bitcoin_without_missing\", \"ses\", \"bitcoin_dataset_without_missing_values.tsf\", \"series_name\", \"start_timestamp\", 8)"
      ]
    },
    {
      "cell_type": "markdown",
      "metadata": {
        "id": "aZaCvCBXUC4t"
      },
      "source": [
        "Try the global model forecasts."
      ]
    },
    {
      "cell_type": "code",
      "execution_count": null,
      "metadata": {
        "colab": {
          "base_uri": "https://localhost:8080/"
        },
        "id": "lvvQ72kWUClH",
        "outputId": "8cd1420c-f9b1-408d-9733-2622ea63e08e"
      },
      "outputs": [],
      "source": [
        "do_fixed_horizon_global_forecasting(\"bitcoin_without_missing\", 25, \"bitcoin_dataset_without_missing_values.tsf\", \"pooled_regression\", \"series_name\", \"start_timestamp\", 8)"
      ]
    }
  ],
  "metadata": {
    "colab": {
      "authorship_tag": "ABX9TyNqE1italaYr5Wv6O7bWayZ",
      "include_colab_link": true,
      "name": "forecastingdata python",
      "provenance": []
    },
    "kernelspec": {
      "display_name": "Python 3",
      "name": "python3"
    },
    "language_info": {
      "codemirror_mode": {
        "name": "ipython",
        "version": 3
      },
      "file_extension": ".py",
      "mimetype": "text/x-python",
      "name": "python",
      "nbconvert_exporter": "python",
      "pygments_lexer": "ipython3",
      "version": "3.9.18"
    }
  },
  "nbformat": 4,
  "nbformat_minor": 0
}
